{
 "cells": [
  {
   "cell_type": "code",
   "execution_count": 1,
   "metadata": {},
   "outputs": [
    {
     "name": "stderr",
     "output_type": "stream",
     "text": [
      "/opt/anaconda3/lib/python3.7/site-packages/IPython/core/interactiveshell.py:3058: DtypeWarning: Columns (61,62,94,95) have mixed types. Specify dtype option on import or set low_memory=False.\n",
      "  interactivity=interactivity, compiler=compiler, result=result)\n"
     ]
    }
   ],
   "source": [
    "import numpy as np\n",
    "import pandas as pd\n",
    "import re\n",
    "\n",
    "data_calendar = pd.read_csv('../Data/calendar.csv')\n",
    "listings_full = pd.read_csv('../Data/listings_full.csv')\n",
    "\n",
    "# =============================================================================\n",
    "# calendar\n",
    "# =============================================================================\n",
    "\n",
    "na_column = data_calendar.apply(lambda x: sum(x.isnull()), axis = 0)\n",
    "\n",
    "def num_na(x):\n",
    "    return sum(x.isnull())\n",
    "na_by_id = (data_calendar\n",
    "     .groupby('listing_id')\n",
    "     .agg(\n",
    "        num_price_na = ('price', num_na),\n",
    "        num_adj_price_na = ('adjusted_price', num_na),\n",
    "        num_min_night_na = ('minimum_nights', num_na),\n",
    "        num_max_night_na = ('maximum_nights', num_na)\n",
    "     ))\n",
    "\n",
    "has_na_listing_id = na_by_id[na_by_id.apply(lambda x: any(x.iloc[0:4]), axis = 1)]\n",
    "\n",
    "price_na_listing_id = na_by_id[(na_by_id['num_price_na'] > 0) | (na_by_id['num_adj_price_na'] > 0)].index\n",
    "\n",
    "# five listings have missing data, the number of rows with missing data is around 170, almost half the 365 days,\n",
    "# therefore, we delete the record of this 5 listings\n",
    "len(price_na_listing_id)\n",
    "data_calendar = data_calendar[~data_calendar['listing_id'].isin(price_na_listing_id)]\n",
    "\n",
    "def to_num(x):\n",
    "    x = re.sub(r',', '', x)\n",
    "    return float(x[1:])\n",
    "data_calendar['price'] = list(map(to_num, data_calendar['price']))\n",
    "data_calendar['adjusted_price'] = list(map(to_num, data_calendar['adjusted_price']))\n",
    "\n",
    "calendar_summary = (\n",
    "        data_calendar\n",
    "        .groupby('listing_id')\n",
    "        .agg({\n",
    "            'available': lambda x: sum(x == 't') / len(x),\n",
    "            'price': np.mean,\n",
    "            'adjusted_price': np.mean,\n",
    "            'minimum_nights': np.mean,\n",
    "            'maximum_nights': np.mean\n",
    "        }))\n",
    "\n",
    "calendar_summary = calendar_summary.reset_index()\n",
    "calendar_summary.rename(columns = {'price':'price_avrg', 'adjusted_price':'adjusted_price_avrg'}, inplace=True)\n",
    "\n",
    "\n",
    "\n",
    "# =============================================================================\n",
    "# Listing\n",
    "# =============================================================================\n",
    "\n",
    "percent_NA = listings_full.isnull().sum() * 100 / len(listings_full)\n",
    "NA_info = pd.DataFrame({'percent_NA': percent_NA})\n",
    "NA_info[NA_info[\"percent_NA\"]>5]\n",
    "\n",
    "col_many_na = percent_NA[percent_NA > 60].index\n",
    "listings_full.drop(col_many_na, axis = 1, inplace = True)\n",
    "\n",
    "#col_var = {}\n",
    "#for i in listings_full.columns:\n",
    "#    col_var[i] = len(np.unique(listings_full[i]))\n",
    "\n",
    "col_to_del = ['listing_url', 'scrape_id', 'last_scraped', 'experiences_offered',\n",
    "              'picture_url', 'host_url', 'country_code', 'country', 'calendar_last_scraped']\n",
    "listing1 = listings_full.drop(col_to_del, axis = 1)\n",
    "\n",
    "\n",
    "percent_NA = listing1.isnull().sum() * 100 / len(listing1)\n",
    "col_w_na = percent_NA[percent_NA > 0].index\n",
    "\n",
    "# =============================================================================\n",
    "# numeric variable\n",
    "# =============================================================================\n",
    "\n",
    "# convert $ into number\n",
    "def to_num(x):\n",
    "    x = re.sub(r',', '', x)\n",
    "    return float(x[1:])\n",
    "\n",
    "listing1['price'] = list(map(to_num, listing1['price']))\n",
    "valid_ind_security = ~listing1['security_deposit'].isnull()\n",
    "listing1.loc[valid_ind_security, 'security_deposit'] = list(\n",
    "        map(to_num, listing1.loc[valid_ind_security, 'security_deposit']))\n",
    "valid_ind_clean = ~listing1['cleaning_fee'].isnull()\n",
    "listing1.loc[valid_ind_clean, 'cleaning_fee'] = list(\n",
    "        map(to_num, listing1.loc[valid_ind_clean, 'cleaning_fee']))\n",
    "listing1['extra_people'] = list(map(to_num, listing1['extra_people']))\n",
    "\n",
    "def str_to_pct(x):\n",
    "    x = re.sub(r'%', '', x)\n",
    "    return float(x) / 100\n",
    "valid_ind_host= ~listing1['host_response_rate'].isnull()\n",
    "listing1.loc[valid_ind_host, 'host_response_rate'] = list(\n",
    "        map(str_to_pct, listing1.loc[valid_ind_host, 'host_response_rate']))\n",
    "\n",
    "# numeric col with na\n",
    "num_col_w_na = [\n",
    "        'host_response_rate', 'host_listings_count', 'host_total_listings_count',\n",
    "        'bathrooms', 'bedrooms', 'beds', 'security_deposit',\n",
    "        'cleaning_fee', 'review_scores_rating',\n",
    "       'review_scores_accuracy', 'review_scores_cleanliness',\n",
    "       'review_scores_checkin', 'review_scores_communication',\n",
    "       'review_scores_location', 'review_scores_value', 'reviews_per_month']\n",
    "mean_na_col = {}\n",
    "for col in num_col_w_na:\n",
    "    mean_na_col[col] = np.mean(listing1[col])\n",
    "\n",
    "for col_name in num_col_w_na:\n",
    "    na_row_ind = listing1[col_name].isnull()\n",
    "    listing1.loc[na_row_ind, col_name] = mean_na_col[col_name]\n",
    "\n",
    "# =============================================================================\n",
    "# Qualitative Variable\n",
    "# =============================================================================\n",
    "#cat_col = ['host_response_time', 'host_neighbourhood', 'host_has_profile_pic',\n",
    "#           'host_is_superhost', 'host_identity_verified', 'neighbourhood',\n",
    "#           'city', 'state', 'market']\n",
    "qualtv_col = col_w_na[~col_w_na.isin(num_col_w_na)]\n",
    "for col_name in qualtv_col:\n",
    "    na_row_ind = listing1[col_name].isnull()\n",
    "    listing1.loc[na_row_ind, col_name] = 'Unknown'\n",
    "\n",
    "# for columns of word description, i.e. non-categorical variables,\n",
    "# convert them into binary variable of having content vs. not\n",
    "col_to_binary = ['name', 'summary', 'space', 'description', 'neighborhood_overview',\n",
    "       'notes', 'transit', 'access', 'interaction', 'house_rules', 'host_name',\n",
    "       'host_location', 'host_about', 'host_thumbnail_url',\n",
    "       'host_picture_url', 'zipcode', 'first_review', 'last_review']\n",
    "for col in col_to_binary:\n",
    "    binary_col_name = 'has_' + col\n",
    "    listing1[binary_col_name] = (listing1[col] != 'Unknown').astype(int)\n",
    "\n",
    "#listing1.to_csv(\"listing_clean.csv\", index = False)\n",
    "\n",
    "\n",
    "\n",
    "\n",
    "\n",
    "# =============================================================================\n",
    "# combine\n",
    "# =============================================================================\n",
    "\n",
    "listing1.shape\n",
    "calendar_summary.shape\n",
    "\n",
    "\n",
    "sum(listing1['id'].isin(calendar_summary['listing_id']))\n",
    "sum(calendar_summary['listing_id'].isin(listing1['id']))\n",
    "\n",
    "listing_calendar = pd.merge(listing1, calendar_summary, 'inner',\n",
    "                            left_on = 'id', right_on = 'listing_id')\n",
    "listing_calendar.drop('listing_id', axis = 1, inplace = True)\n",
    "\n",
    "#listing_calendar.to_csv(\"listing_calendar_clean.csv\", index = False)\n",
    "\n"
   ]
  },
  {
   "cell_type": "code",
   "execution_count": 2,
   "metadata": {},
   "outputs": [],
   "source": [
    "model_data = listing_calendar.copy()"
   ]
  },
  {
   "cell_type": "code",
   "execution_count": 3,
   "metadata": {},
   "outputs": [],
   "source": [
    "import IPython\n",
    "import numpy as np\n",
    "import scipy as sp\n",
    "import pandas as pd\n",
    "import matplotlib\n",
    "import sklearn\n",
    "import matplotlib.pyplot as plt\n",
    "import seaborn as sns\n",
    "import re\n",
    "import string\n",
    "from wordcloud import WordCloud, STOPWORDS\n",
    "from re import sub"
   ]
  },
  {
   "cell_type": "code",
   "execution_count": 4,
   "metadata": {},
   "outputs": [],
   "source": [
    "#listings = pd.read_csv('../Data/listings.csv') \n",
    "#reviews = pd.read_csv('../Data/reviews.csv')\n",
    "reviews_full = pd.read_csv('../Data/reviews_full.csv')\n",
    "#listings_full = pd.read_csv('../listings_full.csv')\n",
    "#neighborhood = pd.read_csv('../Data/neighbourhoods.csv')\n",
    "#calendar = pd.read_csv('../calendar.csv')\n",
    "#model_data = pd.read_csv('../../listing_calendar_clean.csv')"
   ]
  },
  {
   "cell_type": "code",
   "execution_count": 5,
   "metadata": {},
   "outputs": [],
   "source": [
    "## drop observations in the datset with no reviews\n",
    "reviews_full = reviews_full.dropna(subset=[\"comments\"]).copy()"
   ]
  },
  {
   "cell_type": "code",
   "execution_count": 6,
   "metadata": {},
   "outputs": [],
   "source": [
    "## count the length of a review in terms of number of words\n",
    "def count_words(string):\n",
    "    return len(string.split())\n",
    "\n",
    "reviews_full[\"nwords\"] = reviews_full[\"comments\"].apply(count_words)"
   ]
  },
  {
   "cell_type": "code",
   "execution_count": 7,
   "metadata": {},
   "outputs": [],
   "source": [
    "## returns the proportion of punctuation marks in the comment\n",
    "def prop_punc(input_str):\n",
    "    return len(re.findall(f\"[{string.punctuation}]\", input_str))/len(input_str)\n",
    "\n",
    "reviews_full[\"punc_prop\"] = reviews_full[\"comments\"].apply(prop_punc)"
   ]
  },
  {
   "cell_type": "code",
   "execution_count": 8,
   "metadata": {},
   "outputs": [],
   "source": [
    "def excl(input_str):\n",
    "    return int(len(re.findall(\"!!(.*)\", input_str))>0)\n",
    "\n",
    "reviews_full[\">2_exclamation\"] = reviews_full[\"comments\"].apply(excl)"
   ]
  },
  {
   "cell_type": "code",
   "execution_count": 9,
   "metadata": {
    "scrolled": false
   },
   "outputs": [],
   "source": [
    "upper = re.compile('[A-Z]')\n",
    "\n",
    "def prop_cap(input_str):\n",
    "    return len(upper.findall(input_str))/len(input_str)\n",
    "\n",
    "reviews_full[\"prop_cap\"] = reviews_full[\"comments\"].apply(prop_cap)"
   ]
  },
  {
   "cell_type": "code",
   "execution_count": 10,
   "metadata": {},
   "outputs": [
    {
     "data": {
      "text/html": [
       "<div>\n",
       "<style scoped>\n",
       "    .dataframe tbody tr th:only-of-type {\n",
       "        vertical-align: middle;\n",
       "    }\n",
       "\n",
       "    .dataframe tbody tr th {\n",
       "        vertical-align: top;\n",
       "    }\n",
       "\n",
       "    .dataframe thead th {\n",
       "        text-align: right;\n",
       "    }\n",
       "</style>\n",
       "<table border=\"1\" class=\"dataframe\">\n",
       "  <thead>\n",
       "    <tr style=\"text-align: right;\">\n",
       "      <th></th>\n",
       "      <th>listing_id</th>\n",
       "      <th>id</th>\n",
       "      <th>date</th>\n",
       "      <th>reviewer_id</th>\n",
       "      <th>reviewer_name</th>\n",
       "      <th>comments</th>\n",
       "      <th>nwords</th>\n",
       "      <th>punc_prop</th>\n",
       "      <th>&gt;2_exclamation</th>\n",
       "      <th>prop_cap</th>\n",
       "    </tr>\n",
       "  </thead>\n",
       "  <tbody>\n",
       "    <tr>\n",
       "      <td>0</td>\n",
       "      <td>2595</td>\n",
       "      <td>17857</td>\n",
       "      <td>2009-11-21</td>\n",
       "      <td>50679</td>\n",
       "      <td>Jean</td>\n",
       "      <td>Notre séjour de trois nuits.\\r\\nNous avons app...</td>\n",
       "      <td>123</td>\n",
       "      <td>0.029703</td>\n",
       "      <td>0</td>\n",
       "      <td>0.032532</td>\n",
       "    </tr>\n",
       "    <tr>\n",
       "      <td>1</td>\n",
       "      <td>2595</td>\n",
       "      <td>19176</td>\n",
       "      <td>2009-12-05</td>\n",
       "      <td>53267</td>\n",
       "      <td>Cate</td>\n",
       "      <td>Great experience.</td>\n",
       "      <td>2</td>\n",
       "      <td>0.058824</td>\n",
       "      <td>0</td>\n",
       "      <td>0.058824</td>\n",
       "    </tr>\n",
       "    <tr>\n",
       "      <td>2</td>\n",
       "      <td>2595</td>\n",
       "      <td>19760</td>\n",
       "      <td>2009-12-10</td>\n",
       "      <td>38960</td>\n",
       "      <td>Anita</td>\n",
       "      <td>I've stayed with my friend at the Midtown Cast...</td>\n",
       "      <td>90</td>\n",
       "      <td>0.033970</td>\n",
       "      <td>0</td>\n",
       "      <td>0.036093</td>\n",
       "    </tr>\n",
       "    <tr>\n",
       "      <td>3</td>\n",
       "      <td>2595</td>\n",
       "      <td>34320</td>\n",
       "      <td>2010-04-09</td>\n",
       "      <td>71130</td>\n",
       "      <td>Kai-Uwe</td>\n",
       "      <td>We've been staying here for about 9 nights, en...</td>\n",
       "      <td>66</td>\n",
       "      <td>0.038251</td>\n",
       "      <td>0</td>\n",
       "      <td>0.024590</td>\n",
       "    </tr>\n",
       "    <tr>\n",
       "      <td>4</td>\n",
       "      <td>2595</td>\n",
       "      <td>46312</td>\n",
       "      <td>2010-05-25</td>\n",
       "      <td>117113</td>\n",
       "      <td>Alicia</td>\n",
       "      <td>We had a wonderful stay at Jennifer's charming...</td>\n",
       "      <td>24</td>\n",
       "      <td>0.025806</td>\n",
       "      <td>0</td>\n",
       "      <td>0.038710</td>\n",
       "    </tr>\n",
       "  </tbody>\n",
       "</table>\n",
       "</div>"
      ],
      "text/plain": [
       "   listing_id     id        date  reviewer_id reviewer_name  \\\n",
       "0        2595  17857  2009-11-21        50679          Jean   \n",
       "1        2595  19176  2009-12-05        53267          Cate   \n",
       "2        2595  19760  2009-12-10        38960         Anita   \n",
       "3        2595  34320  2010-04-09        71130       Kai-Uwe   \n",
       "4        2595  46312  2010-05-25       117113        Alicia   \n",
       "\n",
       "                                            comments  nwords  punc_prop  \\\n",
       "0  Notre séjour de trois nuits.\\r\\nNous avons app...     123   0.029703   \n",
       "1                                  Great experience.       2   0.058824   \n",
       "2  I've stayed with my friend at the Midtown Cast...      90   0.033970   \n",
       "3  We've been staying here for about 9 nights, en...      66   0.038251   \n",
       "4  We had a wonderful stay at Jennifer's charming...      24   0.025806   \n",
       "\n",
       "   >2_exclamation  prop_cap  \n",
       "0               0  0.032532  \n",
       "1               0  0.058824  \n",
       "2               0  0.036093  \n",
       "3               0  0.024590  \n",
       "4               0  0.038710  "
      ]
     },
     "execution_count": 10,
     "metadata": {},
     "output_type": "execute_result"
    }
   ],
   "source": [
    "reviews_full.head()"
   ]
  },
  {
   "cell_type": "code",
   "execution_count": 11,
   "metadata": {},
   "outputs": [],
   "source": [
    "## group by listing, get the feature means across reviews for each listing \n",
    "\n",
    "reviews_summary = (\n",
    "        reviews_full\n",
    "        .groupby('listing_id')\n",
    "        .agg({\n",
    "            'nwords': np.mean,\n",
    "            'punc_prop': np.mean,\n",
    "            '>2_exclamation': np.mean,\n",
    "            'prop_cap': np.mean\n",
    "        }))"
   ]
  },
  {
   "cell_type": "code",
   "execution_count": 12,
   "metadata": {
    "scrolled": true
   },
   "outputs": [
    {
     "data": {
      "text/plain": [
       "id                     0\n",
       "name                   0\n",
       "summary                0\n",
       "space                  0\n",
       "description            0\n",
       "                      ..\n",
       "available              0\n",
       "price_avrg             0\n",
       "adjusted_price_avrg    0\n",
       "minimum_nights_y       0\n",
       "maximum_nights_y       0\n",
       "Length: 112, dtype: int64"
      ]
     },
     "execution_count": 12,
     "metadata": {},
     "output_type": "execute_result"
    }
   ],
   "source": [
    "## confirm no missing data\n",
    "model_data.isnull().sum()"
   ]
  },
  {
   "cell_type": "code",
   "execution_count": 13,
   "metadata": {},
   "outputs": [],
   "source": [
    "data = pd.merge(model_data, reviews_summary, 'inner',\n",
    "                            left_on = 'id', right_on = 'listing_id')"
   ]
  },
  {
   "cell_type": "code",
   "execution_count": 14,
   "metadata": {},
   "outputs": [],
   "source": [
    "## Convert host_response_rate to quantititave\n",
    "\n",
    "data['host_response_rate'] = data[\"host_response_rate\"].astype(float)\n",
    "\n",
    "## Use this variable instead of host_since to have fewer levels\n",
    "data[\"host_since_year\"] = data[\"host_since\"].apply(lambda x: x[0:4])\n",
    "\n",
    "## Transform host_verifications (ex. email, phone) into total number of means of verification\n",
    "data[\"host_verifications_count\"] = data[\"host_verifications\"].apply(lambda x: x[1:-1]).apply(lambda x: x.split(',')).apply(lambda x: len(x))\n",
    "\n",
    "## clean the messy \"amenities\" feature: length of amenities description in characters\n",
    "data['amenities_length'] = data['amenities'].apply(lambda x: len(x))"
   ]
  },
  {
   "cell_type": "markdown",
   "metadata": {},
   "source": [
    "## Include These Categorical Variables in Model\n",
    "\n",
    "host_response_time (though it may be highly correlated with host response rate)\n",
    "            \n",
    "host_is_superhost \n",
    "            \n",
    "neighbourhood_cleansed \n",
    "            \n",
    "neighbourhood_group_cleansed \n",
    "            \n",
    "is_location_exact \n",
    "            \n",
    "property_type\n",
    "            \n",
    "room_type\n",
    "            \n",
    "bed_type\n",
    "            \n",
    "amenities: very messy. Use nchars?\n",
    "            \n",
    "instant_bookable\n",
    "            \n",
    "cancellation_policy\n",
    "            \n",
    "require_guest_profile_picture\n",
    "            \n",
    "require_guest_phone_verification\n",
    "\n",
    "and any categorical variables you cleaned before\n"
   ]
  },
  {
   "cell_type": "code",
   "execution_count": 15,
   "metadata": {},
   "outputs": [],
   "source": [
    "## split dataset into quantitative variables and categorical variable\n",
    "\n",
    "float_vars = data.loc[:, data.dtypes == 'float64']\n",
    "int_vars = data.loc[:, data.dtypes == 'int64']\n",
    "quantitative_vars = pd.concat([float_vars, int_vars], axis=1)\n",
    "categorical_vars = data.loc[:, data.dtypes == object]"
   ]
  },
  {
   "cell_type": "code",
   "execution_count": 16,
   "metadata": {},
   "outputs": [],
   "source": [
    "quantitative_features = quantitative_vars.columns.values\n",
    "categorical_features = ['host_response_time', 'host_is_superhost', 'neighbourhood_cleansed',\n",
    "                        'neighbourhood_group_cleansed', 'is_location_exact', 'property_type',\n",
    "                        'room_type', 'bed_type', 'instant_bookable', 'cancellation_policy',\n",
    "                        'require_guest_profile_picture', 'require_guest_phone_verification',\n",
    "                        'host_since_year']"
   ]
  },
  {
   "cell_type": "code",
   "execution_count": 17,
   "metadata": {},
   "outputs": [],
   "source": [
    "import statsmodels.api as sm\n",
    "import statsmodels.formula.api as smf\n",
    "import scipy.stats as stats\n",
    "import scipy as sp\n",
    "from sklearn import preprocessing"
   ]
  },
  {
   "cell_type": "code",
   "execution_count": 18,
   "metadata": {
    "scrolled": true
   },
   "outputs": [],
   "source": [
    "## normalize quantative features being fitting model\n",
    "quantitative_vars_normalized = quantitative_vars.apply(lambda x: preprocessing.scale(x), axis = 0)\n",
    "\n",
    "exclude_these = [\"price\", 'price_avrg', 'adjusted_price_avrg']\n",
    "use_these = [x for x in quantitative_vars_normalized.columns if x not in exclude_these]\n",
    "\n",
    "quant_exclude_price = quantitative_vars_normalized.loc[:, use_these]"
   ]
  },
  {
   "cell_type": "code",
   "execution_count": 19,
   "metadata": {},
   "outputs": [],
   "source": [
    "## create dummy variables for categorical features\n",
    "def dummy_df(df, feature_names):\n",
    "    dummydf = pd.DataFrame()\n",
    "    for name in feature_names:\n",
    "        tmp = pd.get_dummies(df.loc[:,name], prefix= name, prefix_sep='_')\n",
    "        dummydf = pd.concat([dummydf, tmp], axis = 1)\n",
    "    return dummydf\n",
    "\n",
    "dummy_vars = dummy_df(categorical_vars, categorical_features)"
   ]
  },
  {
   "cell_type": "code",
   "execution_count": 20,
   "metadata": {},
   "outputs": [],
   "source": [
    "lasso_data = pd.concat([quant_exclude_price, dummy_vars], axis = 1)\n",
    "price = quantitative_vars_normalized.loc[:, \"price\"]"
   ]
  },
  {
   "cell_type": "code",
   "execution_count": 28,
   "metadata": {},
   "outputs": [],
   "source": [
    "from sklearn.model_selection import GridSearchCV\n",
    "from sklearn.linear_model import Lasso\n",
    "lasso = Lasso()\n",
    "parameters = {'alpha': np.arange(.01, 1, .01)}"
   ]
  },
  {
   "cell_type": "code",
   "execution_count": 29,
   "metadata": {
    "scrolled": true
   },
   "outputs": [
    {
     "data": {
      "text/plain": [
       "GridSearchCV(cv=5, error_score='raise-deprecating',\n",
       "             estimator=Lasso(alpha=1.0, copy_X=True, fit_intercept=True,\n",
       "                             max_iter=1000, normalize=False, positive=False,\n",
       "                             precompute=False, random_state=None,\n",
       "                             selection='cyclic', tol=0.0001, warm_start=False),\n",
       "             iid='warn', n_jobs=None,\n",
       "             param_grid={'alpha': array([0.01, 0.02, 0.03, 0.04, 0.05, 0.06, 0.07, 0.08, 0.09, 0.1 , 0.11,\n",
       "       0.12, 0.13, 0...\n",
       "       0.45, 0.46, 0.47, 0.48, 0.49, 0.5 , 0.51, 0.52, 0.53, 0.54, 0.55,\n",
       "       0.56, 0.57, 0.58, 0.59, 0.6 , 0.61, 0.62, 0.63, 0.64, 0.65, 0.66,\n",
       "       0.67, 0.68, 0.69, 0.7 , 0.71, 0.72, 0.73, 0.74, 0.75, 0.76, 0.77,\n",
       "       0.78, 0.79, 0.8 , 0.81, 0.82, 0.83, 0.84, 0.85, 0.86, 0.87, 0.88,\n",
       "       0.89, 0.9 , 0.91, 0.92, 0.93, 0.94, 0.95, 0.96, 0.97, 0.98, 0.99])},\n",
       "             pre_dispatch='2*n_jobs', refit=True, return_train_score=False,\n",
       "             scoring='neg_mean_squared_error', verbose=0)"
      ]
     },
     "execution_count": 29,
     "metadata": {},
     "output_type": "execute_result"
    }
   ],
   "source": [
    "np.random.seed(seed=1000)\n",
    "lasso_gridcv = GridSearchCV(lasso, parameters, scoring = 'neg_mean_squared_error', cv = 5, )\n",
    "lasso_gridcv.fit(lasso_data, price)"
   ]
  },
  {
   "cell_type": "code",
   "execution_count": null,
   "metadata": {},
   "outputs": [],
   "source": []
  },
  {
   "cell_type": "code",
   "execution_count": 30,
   "metadata": {},
   "outputs": [
    {
     "name": "stdout",
     "output_type": "stream",
     "text": [
      "{'alpha': 0.01}\n",
      "-0.9479142006399199\n"
     ]
    }
   ],
   "source": [
    "print(lasso_gridcv.best_params_)\n",
    "print(lasso_gridcv.best_score_)"
   ]
  },
  {
   "cell_type": "code",
   "execution_count": 31,
   "metadata": {},
   "outputs": [
    {
     "data": {
      "text/plain": [
       "Lasso(alpha=0.01, copy_X=True, fit_intercept=True, max_iter=100000.0,\n",
       "      normalize=False, positive=False, precompute=False, random_state=None,\n",
       "      selection='cyclic', tol=0.0001, warm_start=False)"
      ]
     },
     "execution_count": 31,
     "metadata": {},
     "output_type": "execute_result"
    }
   ],
   "source": [
    "## fit the model now with the optimal tuning parameter\n",
    "lassoreg = Lasso(alpha=.01, max_iter=1e5)\n",
    "lassoreg.fit(lasso_data, price)"
   ]
  },
  {
   "cell_type": "code",
   "execution_count": 35,
   "metadata": {},
   "outputs": [
    {
     "name": "stdout",
     "output_type": "stream",
     "text": [
      "4.068129015762168e-17\n"
     ]
    },
    {
     "data": {
      "text/plain": [
       "Text(0.5, 1.0, 'Residuals Plot')"
      ]
     },
     "execution_count": 35,
     "metadata": {},
     "output_type": "execute_result"
    },
    {
     "data": {
      "image/png": "[encoded data removed]",
      "text/plain": [
       "<Figure size 432x288 with 1 Axes>"
      ]
     },
     "metadata": {
      "needs_background": "light"
     },
     "output_type": "display_data"
    }
   ],
   "source": [
    "preds = lassoreg.predict(lasso_data)\n",
    "residuals = price - preds\n",
    "\n",
    "print(np.mean(residuals))\n",
    "\n",
    "plt.scatter(preds, residuals)\n",
    "plt.xlabel('Predicted Price')\n",
    "plt.ylabel('Residuals')\n",
    "plt.title('Residuals Plot')"
   ]
  },
  {
   "cell_type": "code",
   "execution_count": 36,
   "metadata": {},
   "outputs": [],
   "source": [
    "A = lasso_data.columns[lassoreg.coef_ != 0]"
   ]
  },
  {
   "cell_type": "code",
   "execution_count": 37,
   "metadata": {
    "scrolled": true
   },
   "outputs": [],
   "source": [
    "B = lassoreg.coef_[lassoreg.coef_ != 0]"
   ]
  },
  {
   "cell_type": "code",
   "execution_count": 38,
   "metadata": {},
   "outputs": [],
   "source": [
    "tmp_df = pd.DataFrame({\"Features\": A, \"Coefficients\": B})"
   ]
  },
  {
   "cell_type": "code",
   "execution_count": 47,
   "metadata": {},
   "outputs": [
    {
     "data": {
      "text/html": [
       "<div>\n",
       "<style scoped>\n",
       "    .dataframe tbody tr th:only-of-type {\n",
       "        vertical-align: middle;\n",
       "    }\n",
       "\n",
       "    .dataframe tbody tr th {\n",
       "        vertical-align: top;\n",
       "    }\n",
       "\n",
       "    .dataframe thead th {\n",
       "        text-align: right;\n",
       "    }\n",
       "</style>\n",
       "<table border=\"1\" class=\"dataframe\">\n",
       "  <thead>\n",
       "    <tr style=\"text-align: right;\">\n",
       "      <th></th>\n",
       "      <th>Features</th>\n",
       "      <th>Coefficients</th>\n",
       "    </tr>\n",
       "  </thead>\n",
       "  <tbody>\n",
       "    <tr>\n",
       "      <td>18</td>\n",
       "      <td>has_host_about</td>\n",
       "      <td>0.002310</td>\n",
       "    </tr>\n",
       "    <tr>\n",
       "      <td>19</td>\n",
       "      <td>maximum_nights_avg_ntm</td>\n",
       "      <td>0.001703</td>\n",
       "    </tr>\n",
       "    <tr>\n",
       "      <td>20</td>\n",
       "      <td>nwords</td>\n",
       "      <td>0.001649</td>\n",
       "    </tr>\n",
       "    <tr>\n",
       "      <td>21</td>\n",
       "      <td>maximum_maximum_nights</td>\n",
       "      <td>0.000454</td>\n",
       "    </tr>\n",
       "    <tr>\n",
       "      <td>22</td>\n",
       "      <td>has_notes</td>\n",
       "      <td>-0.003449</td>\n",
       "    </tr>\n",
       "    <tr>\n",
       "      <td>23</td>\n",
       "      <td>host_response_rate</td>\n",
       "      <td>-0.005086</td>\n",
       "    </tr>\n",
       "    <tr>\n",
       "      <td>24</td>\n",
       "      <td>number_of_reviews</td>\n",
       "      <td>-0.006975</td>\n",
       "    </tr>\n",
       "    <tr>\n",
       "      <td>25</td>\n",
       "      <td>calculated_host_listings_count</td>\n",
       "      <td>-0.009975</td>\n",
       "    </tr>\n",
       "    <tr>\n",
       "      <td>26</td>\n",
       "      <td>review_scores_communication</td>\n",
       "      <td>-0.011754</td>\n",
       "    </tr>\n",
       "    <tr>\n",
       "      <td>27</td>\n",
       "      <td>has_transit</td>\n",
       "      <td>-0.012162</td>\n",
       "    </tr>\n",
       "    <tr>\n",
       "      <td>28</td>\n",
       "      <td>host_verifications_count</td>\n",
       "      <td>-0.013207</td>\n",
       "    </tr>\n",
       "    <tr>\n",
       "      <td>29</td>\n",
       "      <td>calculated_host_listings_count_shared_rooms</td>\n",
       "      <td>-0.014084</td>\n",
       "    </tr>\n",
       "    <tr>\n",
       "      <td>30</td>\n",
       "      <td>maximum_nights_x</td>\n",
       "      <td>-0.014804</td>\n",
       "    </tr>\n",
       "    <tr>\n",
       "      <td>31</td>\n",
       "      <td>review_scores_checkin</td>\n",
       "      <td>-0.016002</td>\n",
       "    </tr>\n",
       "    <tr>\n",
       "      <td>32</td>\n",
       "      <td>review_scores_value</td>\n",
       "      <td>-0.017127</td>\n",
       "    </tr>\n",
       "    <tr>\n",
       "      <td>33</td>\n",
       "      <td>number_of_reviews_ltm</td>\n",
       "      <td>-0.024868</td>\n",
       "    </tr>\n",
       "    <tr>\n",
       "      <td>34</td>\n",
       "      <td>longitude</td>\n",
       "      <td>-0.058669</td>\n",
       "    </tr>\n",
       "    <tr>\n",
       "      <td>35</td>\n",
       "      <td>property_type_Apartment</td>\n",
       "      <td>-0.060865</td>\n",
       "    </tr>\n",
       "  </tbody>\n",
       "</table>\n",
       "</div>"
      ],
      "text/plain": [
       "                                       Features  Coefficients\n",
       "18                               has_host_about      0.002310\n",
       "19                       maximum_nights_avg_ntm      0.001703\n",
       "20                                       nwords      0.001649\n",
       "21                       maximum_maximum_nights      0.000454\n",
       "22                                    has_notes     -0.003449\n",
       "23                           host_response_rate     -0.005086\n",
       "24                            number_of_reviews     -0.006975\n",
       "25               calculated_host_listings_count     -0.009975\n",
       "26                  review_scores_communication     -0.011754\n",
       "27                                  has_transit     -0.012162\n",
       "28                     host_verifications_count     -0.013207\n",
       "29  calculated_host_listings_count_shared_rooms     -0.014084\n",
       "30                             maximum_nights_x     -0.014804\n",
       "31                        review_scores_checkin     -0.016002\n",
       "32                          review_scores_value     -0.017127\n",
       "33                        number_of_reviews_ltm     -0.024868\n",
       "34                                    longitude     -0.058669\n",
       "35                      property_type_Apartment     -0.060865"
      ]
     },
     "execution_count": 47,
     "metadata": {},
     "output_type": "execute_result"
    }
   ],
   "source": [
    "tmp_df.sort_values(by=['Coefficients'], ascending=False).reset_index().loc[:, [\"Features\", \"Coefficients\"]][18:37]"
   ]
  },
  {
   "cell_type": "code",
   "execution_count": null,
   "metadata": {},
   "outputs": [],
   "source": [
    "\n",
    "## np.array(price).reshape(-1,1)\n",
    "## transform predictions back to scale and find RMSE\n",
    "#sd = np.std(data.loc[:, \"price\"])\n",
    "#mean = np.mean(data.loc[:, \"price\"])\n",
    "#y_pred = lassoreg.predict(price)"
   ]
  },
  {
   "cell_type": "code",
   "execution_count": null,
   "metadata": {},
   "outputs": [],
   "source": [
    "data.loc[:, \"minimum_maximum_nights\"]"
   ]
  },
  {
   "cell_type": "code",
   "execution_count": null,
   "metadata": {},
   "outputs": [],
   "source": [
    "#all_columns = \"+\".join(quantitative_vars.columns - [\"price\"])\n",
    "\n",
    "def ols_formula(dependent_var, quantitative, categorical, *exclude):\n",
    "\n",
    "    #quantitative.remove(dependent_var)\n",
    "    tmp = lambda x: \"C(\" + x + \")\"\n",
    "    categoricalC = list(map(tmp, categorical))\n",
    "    for x in exclude:\n",
    "        quantitative.remove(x)\n",
    "    return dependent_var + ' ~ ' + ' + '.join(quantitative) + ' + ' + ' + '.join(categoricalC)\n",
    "\n",
    "## alternatively: use pandas_getdummies to get dummy variables, and then use sklearn"
   ]
  },
  {
   "cell_type": "code",
   "execution_count": null,
   "metadata": {},
   "outputs": [],
   "source": [
    "lasso_data = pd.concat([quant_exclude_price, categorical_vars], axis = 1)\n",
    "fml = ols_formula('price', use_these, categorical_features)\n",
    "mod = sm.OLS.from_formula(fml, lasso_data)\n",
    "rslt = mod.fit_regularized(alpha=.005)"
   ]
  },
  {
   "cell_type": "code",
   "execution_count": null,
   "metadata": {},
   "outputs": [],
   "source": [
    "rslt.params[rslt.params != 0]"
   ]
  },
  {
   "cell_type": "code",
   "execution_count": null,
   "metadata": {},
   "outputs": [],
   "source": []
  },
  {
   "cell_type": "markdown",
   "metadata": {},
   "source": [
    "# Issues\n",
    "    1. \"has_availability\": what does this mean?\n",
    "    2. is_business_travel_ready: what does this mean?\n",
    "    3. extend to group lasso later\n",
    "    4. Include all categorical variables in initial model"
   ]
  }
 ],
 "metadata": {
  "kernelspec": {
   "display_name": "Python 3",
   "language": "python",
   "name": "python3"
  },
  "language_info": {
   "codemirror_mode": {
    "name": "ipython",
    "version": 3
   },
   "file_extension": ".py",
   "mimetype": "text/x-python",
   "name": "python",
   "nbconvert_exporter": "python",
   "pygments_lexer": "ipython3",
   "version": "3.7.4"
  }
 },
 "nbformat": 4,
 "nbformat_minor": 2
}
